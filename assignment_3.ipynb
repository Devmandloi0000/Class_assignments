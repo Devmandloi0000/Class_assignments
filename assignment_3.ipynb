{
 "cells": [
  {
   "cell_type": "code",
   "execution_count": 1,
   "id": "6763e136",
   "metadata": {},
   "outputs": [
    {
     "data": {
      "text/plain": [
       "3"
      ]
     },
     "execution_count": 1,
     "metadata": {},
     "output_type": "execute_result"
    }
   ],
   "source": [
    "# que(1)\n",
    "\n",
    "text = \"welcome to ineuron, you are the part of FSDS bootcamp 2 in ineuron. I hope you are enjoying the course by ineuron\"\n",
    "\n",
    "text.count('ineuron')"
   ]
  },
  {
   "cell_type": "code",
   "execution_count": 2,
   "id": "2eaf5693",
   "metadata": {},
   "outputs": [
    {
     "data": {
      "text/plain": [
       "', welc'"
      ]
     },
     "execution_count": 2,
     "metadata": {},
     "output_type": "execute_result"
    }
   ],
   "source": [
    "# que (2)\n",
    "\n",
    "txt = \"Hello, welcome to FSDS 2.0 at ineuron.\"\n",
    "\n",
    "txt[5:11]\n",
    "\n",
    "# No "
   ]
  },
  {
   "cell_type": "code",
   "execution_count": 9,
   "id": "a9f0e80e",
   "metadata": {},
   "outputs": [
    {
     "name": "stdout",
     "output_type": "stream",
     "text": [
      "Enter Name here : dev\n",
      "Enter middle name here : sumitra\n",
      "Enter last name here : mandloi\n",
      "D.S.Mandloi\n"
     ]
    }
   ],
   "source": [
    "# que(3)\n",
    "\n",
    "name = input('Enter Name here : ')\n",
    "middle_name = input('Enter middle name here : ')\n",
    "last_name = input('Enter last name here : ')\n",
    "\n",
    "name = name.title()\n",
    "middle_name = middle_name.title()\n",
    "last_name = last_name.title()\n",
    "\n",
    "print(f\"{name[:1]}.{middle_name[:1]}.{last_name}\")"
   ]
  },
  {
   "cell_type": "code",
   "execution_count": 13,
   "id": "3555f0bf",
   "metadata": {},
   "outputs": [
    {
     "name": "stdout",
     "output_type": "stream",
     "text": [
      "my#name#is#dev#mandloi\n"
     ]
    }
   ],
   "source": [
    "# que(4)\n",
    "\n",
    "List = ['my', 'name','is','dev','mandloi']\n",
    "\n",
    "print(f\"{List[0]}#{List[1]}#{List[2]}#{List[3]}#{List[4]}\")\n"
   ]
  },
  {
   "cell_type": "code",
   "execution_count": 18,
   "id": "36957cb3",
   "metadata": {},
   "outputs": [
    {
     "name": "stdout",
     "output_type": "stream",
     "text": [
      "False\n",
      "True\n",
      "False\n",
      "False\n",
      "False\n"
     ]
    }
   ],
   "source": [
    "# que(5)\n",
    "\n",
    "my_string = 'india is my country where latitude is 5.5'\n",
    "\n",
    "print(my_string.isdecimal())\n",
    "print(my_string.islower())\n",
    "print(my_string.isupper())\n",
    "print(my_string.isalpha())\n",
    "print(my_string.isnumeric())"
   ]
  },
  {
   "cell_type": "code",
   "execution_count": 26,
   "id": "4846c6ef",
   "metadata": {},
   "outputs": [
    {
     "name": "stdout",
     "output_type": "stream",
     "text": [
      "enter here name : devendra\n",
      "enter here contact info :8435343811\n",
      "deven843r\n"
     ]
    }
   ],
   "source": [
    "# que(6)\n",
    "\n",
    "user_detail = input('enter here name : ')\n",
    "contact = input('enter here contact info :')\n",
    "\n",
    "print(f\"{user_detail[0:5]}{contact[:3]}{user_detail[-2]}\")"
   ]
  },
  {
   "cell_type": "code",
   "execution_count": null,
   "id": "f63f1202",
   "metadata": {},
   "outputs": [],
   "source": []
  }
 ],
 "metadata": {
  "kernelspec": {
   "display_name": "Python 3 (ipykernel)",
   "language": "python",
   "name": "python3"
  },
  "language_info": {
   "codemirror_mode": {
    "name": "ipython",
    "version": 3
   },
   "file_extension": ".py",
   "mimetype": "text/x-python",
   "name": "python",
   "nbconvert_exporter": "python",
   "pygments_lexer": "ipython3",
   "version": "3.9.12"
  }
 },
 "nbformat": 4,
 "nbformat_minor": 5
}

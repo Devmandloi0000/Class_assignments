{
 "cells": [
  {
   "cell_type": "code",
   "execution_count": 75,
   "id": "178b4d5b",
   "metadata": {},
   "outputs": [
    {
     "name": "stdout",
     "output_type": "stream",
     "text": [
      "525\n"
     ]
    }
   ],
   "source": [
    "# que(1)\n",
    "# find the largest no from the given list and use for loops\n",
    "\n",
    "numbers = [12,75,150,180,145,525,50]\n",
    "\n",
    "highest = 0\n",
    "for i in numbers:\n",
    "    if highest<i:\n",
    "        highest = i\n",
    "print(highest)"
   ]
  },
  {
   "cell_type": "code",
   "execution_count": 77,
   "id": "3a584d6b",
   "metadata": {},
   "outputs": [
    {
     "name": "stdout",
     "output_type": "stream",
     "text": [
      "1\n",
      "3\n",
      "5\n",
      "7\n",
      "9\n",
      "11\n"
     ]
    }
   ],
   "source": [
    "# que(2)\n",
    "# print all even no. between (1,12)\n",
    "\n",
    "for i in range(1,12):\n",
    "    if i%2 != 0:\n",
    "        print(i)"
   ]
  },
  {
   "cell_type": "code",
   "execution_count": 82,
   "id": "3ea92e40",
   "metadata": {},
   "outputs": [
    {
     "name": "stdout",
     "output_type": "stream",
     "text": [
      "46\n"
     ]
    }
   ],
   "source": [
    "# que(3)\n",
    "# calculate the sum of all numbers from 1 to a given numbers\n",
    "\n",
    "n = 1\n",
    "\n",
    "for i in range(1,10):\n",
    "    n = i + n\n",
    "print(n)"
   ]
  },
  {
   "cell_type": "code",
   "execution_count": 52,
   "id": "15141326",
   "metadata": {},
   "outputs": [
    {
     "name": "stdout",
     "output_type": "stream",
     "text": [
      "[75, 150, 180, 145, 525, 50]\n"
     ]
    }
   ],
   "source": [
    "# que(4)\n",
    "# write a programm to dissplay only the those numberfrom a ist that satisfy the following condition\n",
    "# (1) the no must be divisible by 5 \n",
    "\n",
    "numbers = [12,75,150,180,145,525,50]\n",
    "\n",
    "l = list()\n",
    "for i in numbers:\n",
    "    if i%5 == 0:\n",
    "        l.append(i)\n",
    "print(l)"
   ]
  },
  {
   "cell_type": "code",
   "execution_count": 56,
   "id": "ff227556",
   "metadata": {},
   "outputs": [
    {
     "name": "stdout",
     "output_type": "stream",
     "text": [
      "12\n",
      "75\n",
      "145\n",
      "50\n"
     ]
    }
   ],
   "source": [
    "# (2) if the no is greater than 150 then skip it and move to the next numbers\n",
    "\n",
    "numbers = [12,75,150,180,145,525,50]\n",
    "\n",
    "for i in numbers:\n",
    "    if i < 150:\n",
    "        print(i)\n",
    "        continue\n",
    "        print(i)"
   ]
  },
  {
   "cell_type": "code",
   "execution_count": 67,
   "id": "4c7688f3",
   "metadata": {},
   "outputs": [
    {
     "name": "stdout",
     "output_type": "stream",
     "text": [
      "12\n",
      "75\n",
      "150\n",
      "180\n",
      "145\n"
     ]
    }
   ],
   "source": [
    "# (3)\n",
    "# if the number is greater than 500 then stop the loop \n",
    "\n",
    "numbers = [12,75,150,180,145,525,50]\n",
    "\n",
    "for i in numbers:\n",
    "    if i <= 500:\n",
    "        print(i)\n",
    "    elif i >= 500:\n",
    "        break\n"
   ]
  },
  {
   "cell_type": "code",
   "execution_count": 68,
   "id": "51df0818",
   "metadata": {},
   "outputs": [
    {
     "name": "stdout",
     "output_type": "stream",
     "text": [
      "50\n",
      "40\n",
      "30\n",
      "20\n",
      "10\n"
     ]
    }
   ],
   "source": [
    "# que(5)\n",
    "# print the list in reverse order\n",
    "\n",
    "list1 = [10,20,30,40,50]\n",
    "\n",
    "for i in reversed(list1):\n",
    "    print(i)"
   ]
  },
  {
   "cell_type": "code",
   "execution_count": null,
   "id": "6617d95e",
   "metadata": {},
   "outputs": [],
   "source": []
  }
 ],
 "metadata": {
  "kernelspec": {
   "display_name": "Python 3 (ipykernel)",
   "language": "python",
   "name": "python3"
  },
  "language_info": {
   "codemirror_mode": {
    "name": "ipython",
    "version": 3
   },
   "file_extension": ".py",
   "mimetype": "text/x-python",
   "name": "python",
   "nbconvert_exporter": "python",
   "pygments_lexer": "ipython3",
   "version": "3.9.12"
  }
 },
 "nbformat": 4,
 "nbformat_minor": 5
}

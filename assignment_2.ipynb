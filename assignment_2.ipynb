{
 "cells": [
  {
   "cell_type": "code",
   "execution_count": 1,
   "id": "f024660e",
   "metadata": {},
   "outputs": [
    {
     "data": {
      "text/plain": [
       "'\\nindantation error mean that 4 space error, when we use colon after colon 4 space is mendatory in python\\nindantation is important for understanding of code of block\\nexample : uses in for loops\\nif condition\\nelse\\netc\\n'"
      ]
     },
     "execution_count": 1,
     "metadata": {},
     "output_type": "execute_result"
    }
   ],
   "source": [
    "# que(1) What is indentation error? Why indentation is important? Give one simple example?\n",
    "\n",
    "\"\"\"\n",
    "indantation error mean that 4 space error, when we use colon after colon 4 space is mendatory in python\n",
    "indantation is important for understanding of code of block\n",
    "example : uses in for loops\n",
    "if condition\n",
    "else\n",
    "etc\n",
    "\"\"\""
   ]
  },
  {
   "cell_type": "code",
   "execution_count": 69,
   "id": "2d72008d",
   "metadata": {},
   "outputs": [
    {
     "name": "stdout",
     "output_type": "stream",
     "text": [
      "Since class is not started...\n",
      "let's revise\n"
     ]
    }
   ],
   "source": [
    "class_started = False\n",
    "\n",
    "if not class_started:\n",
    "    print(\"Since class is not started...\")\n",
    "    print(\"let's revise\")\n",
    "else:\n",
    "    print(\"Since class started...\")\n",
    "    print(\"Lets concentrate\")"
   ]
  },
  {
   "cell_type": "code",
   "execution_count": 67,
   "id": "fb03dc6d",
   "metadata": {},
   "outputs": [
    {
     "name": "stdout",
     "output_type": "stream",
     "text": [
      "Hey friend, is class started?: [0-False/1-True]453\n",
      "Since class started...\n",
      "Lets concentrate\n"
     ]
    }
   ],
   "source": [
    "class_started = bool(input(\"Hey friend, is class started?: [0-False/1-True]\"))\n",
    "\n",
    "if  not class_started:\n",
    "    print(\"Since class is not started...\")\n",
    "    print(\"let's revise\")\n",
    "else:\n",
    "    print(\"Since class started...\")\n",
    "    print(\"Lets concentrate\")\n",
    "\n",
    "    \n",
    "     "
   ]
  },
  {
   "cell_type": "code",
   "execution_count": 45,
   "id": "73a772fd",
   "metadata": {},
   "outputs": [
    {
     "name": "stdout",
     "output_type": "stream",
     "text": [
      "ask to other is class started ? :0\n",
      "Since class is not started...\n",
      "let's revise\n"
     ]
    }
   ],
   "source": [
    "class_started = bool(input('ask to other is class started ? :'))\n",
    "\n",
    "if not class_started:\n",
    "    print(\"Since class started...\")\n",
    "    print(\"Lets concentrate\")\n",
    "else:\n",
    "    print(\"Since class is not started...\")\n",
    "    print(\"let's revise\")  \n",
    "    "
   ]
  },
  {
   "cell_type": "code",
   "execution_count": 80,
   "id": "3780bc3c",
   "metadata": {},
   "outputs": [
    {
     "name": "stdout",
     "output_type": "stream",
     "text": [
      "Enter here any word :patidar\n",
      "patidar user input method is always a string \n",
      "7\n"
     ]
    }
   ],
   "source": [
    "#que(3) Use if else condition to verify that dataype of input() method in python is always string.\n",
    "\n",
    "data = input('Enter here any word :')\n",
    "\n",
    "\n",
    "\n",
    "if type(data) == str :\n",
    "    print(f\"{data} user input method is always a string \")\n",
    "    n = len(data)\n",
    "    print(len(data))\n",
    "else:\n",
    "    print(f\" {data} is not a string\")"
   ]
  },
  {
   "cell_type": "code",
   "execution_count": 2,
   "id": "4816e8aa",
   "metadata": {},
   "outputs": [
    {
     "name": "stdout",
     "output_type": "stream",
     "text": [
      " 20 is greater than 10 and 5\n"
     ]
    }
   ],
   "source": [
    "# que(4) Take 3 variables and assign integer values to them. Find the largest variable, by only using the if and else conditions.\n",
    "a,b,c = 10,20,5\n",
    "\n",
    "if a >= b and a >= c:\n",
    "    print(f\" {a} is greater than {b} and {c}\")\n",
    "elif b >= a and b >= c:\n",
    "    print(f\" {b} is greater than {a} and {c}\")\n",
    "else:\n",
    "    print(f\" {c} is greater than {a} and {b}\")"
   ]
  },
  {
   "cell_type": "code",
   "execution_count": 3,
   "id": "2553f32d",
   "metadata": {},
   "outputs": [
    {
     "name": "stdout",
     "output_type": "stream",
     "text": [
      "False\n"
     ]
    }
   ],
   "source": [
    "# que(5)  what would be the solution \n",
    "# 1. True\n",
    "# 2. False\n",
    "\n",
    "\n",
    "# Answer >False\n",
    "\n",
    "a = 6\n",
    "b = 10\n",
    "\n",
    "print(not (not a == 10 or not b == 10))"
   ]
  },
  {
   "cell_type": "code",
   "execution_count": 9,
   "id": "1e122ae0",
   "metadata": {},
   "outputs": [
    {
     "name": "stdout",
     "output_type": "stream",
     "text": [
      "False\n",
      "2285315596560\n",
      "2285315162064\n",
      "<class 'float'>\n",
      "<class 'float'>\n"
     ]
    }
   ],
   "source": [
    "# que(6)  find out the anser as well as find out the reason behind the result\n",
    "# case (1)\n",
    "\n",
    "a = 5.0\n",
    "b = 10/2\n",
    "\n",
    "print(a is b)\n",
    "\n",
    "print(id(a))\n",
    "print(id(b))\n",
    "\n",
    "\n",
    "print(type(a))\n",
    "print(type(b))\n",
    "\n",
    "\n",
    "\n",
    "# reason behind is that they both contain the same datatype but having differnt memory location therefore the answer is false"
   ]
  },
  {
   "cell_type": "code",
   "execution_count": 12,
   "id": "20fd4a3e",
   "metadata": {},
   "outputs": [
    {
     "name": "stdout",
     "output_type": "stream",
     "text": [
      "False\n",
      "<class 'float'>\n",
      "<class 'int'>\n"
     ]
    }
   ],
   "source": [
    "# case (2)\n",
    "\n",
    "a = 5.0\n",
    "b = int(10/2)\n",
    "\n",
    "print(a is b)\n",
    "\n",
    "# datatype is differnt therfore the answer is False\n",
    "print(type(a))\n",
    "print(type(b))"
   ]
  },
  {
   "cell_type": "code",
   "execution_count": 15,
   "id": "1a0ff387",
   "metadata": {},
   "outputs": [
    {
     "name": "stdout",
     "output_type": "stream",
     "text": [
      "False\n",
      "<class 'float'>\n",
      "<class 'float'>\n"
     ]
    }
   ],
   "source": [
    "# case (3)\n",
    "\n",
    "a = 5.0\n",
    "b = float(10/2)\n",
    "\n",
    "print(a is b)\n",
    "\n",
    "print(type(a))\n",
    "print(type(b))\n",
    "\n",
    "# reason is same as case(1) memory location is diffent"
   ]
  },
  {
   "cell_type": "code",
   "execution_count": 17,
   "id": "c20be7b5",
   "metadata": {},
   "outputs": [
    {
     "name": "stdout",
     "output_type": "stream",
     "text": [
      " interger_division: 25//5 = 5\n"
     ]
    }
   ],
   "source": [
    "# \n",
    "\n",
    "var_a = 5\n",
    "var_b = 25\n",
    "\n",
    "interger_division = var_b // var_a\n",
    "print(f\" interger_division: {var_b}//{var_a} = {interger_division}\")"
   ]
  },
  {
   "cell_type": "code",
   "execution_count": 18,
   "id": "0f9e40c7",
   "metadata": {},
   "outputs": [
    {
     "name": "stdout",
     "output_type": "stream",
     "text": [
      " interger_division: 25//3 = 8\n"
     ]
    }
   ],
   "source": [
    "var_a = 3\n",
    "var_b = 25\n",
    "\n",
    "interger_division = var_b // var_a\n",
    "print(f\" interger_division: {var_b}//{var_a} = {interger_division}\")"
   ]
  },
  {
   "cell_type": "code",
   "execution_count": 19,
   "id": "5255c47e",
   "metadata": {},
   "outputs": [
    {
     "name": "stdout",
     "output_type": "stream",
     "text": [
      " reminder: 25%5 = 0\n"
     ]
    }
   ],
   "source": [
    "var_a = 5\n",
    "var_b = 25\n",
    "\n",
    "reminder = var_b % var_a\n",
    "print(f\" reminder: {var_b}%{var_a} = {reminder}\")"
   ]
  },
  {
   "cell_type": "code",
   "execution_count": 20,
   "id": "2c4a92fb",
   "metadata": {},
   "outputs": [
    {
     "name": "stdout",
     "output_type": "stream",
     "text": [
      " reminder: 25%3 = 1\n"
     ]
    }
   ],
   "source": [
    "var_a = 3\n",
    "var_b = 25\n",
    "\n",
    "reminder = var_b % var_a\n",
    "print(f\" reminder: {var_b}%{var_a} = {reminder}\")"
   ]
  },
  {
   "cell_type": "code",
   "execution_count": 40,
   "id": "ccccd964",
   "metadata": {},
   "outputs": [
    {
     "name": "stdout",
     "output_type": "stream",
     "text": [
      "Enter any No. :47\n",
      "47 is not a divisible of 3 and 5\n"
     ]
    }
   ],
   "source": [
    "# que(7)  \n",
    "\n",
    "user_input = int(input('Enter any No. :'))\n",
    "\n",
    "if user_input % 3 == 0 and user_input % 5 == 0:\n",
    "    print(f\"{user_input} is divisible by 3 and 5\")\n",
    "else:\n",
    "    print(f\"{user_input} is not a divisible of 3 and 5\")"
   ]
  },
  {
   "cell_type": "code",
   "execution_count": 49,
   "id": "f03b6412",
   "metadata": {},
   "outputs": [
    {
     "name": "stdout",
     "output_type": "stream",
     "text": [
      "Enter a lenght : 10\n",
      "Enter a width : 15\n",
      "its a rectangle\n",
      "Area of rectangle is 10*15 = 150\n"
     ]
    }
   ],
   "source": [
    "# que(8)  \n",
    "\n",
    "length = int(input('Enter a lenght : '))\n",
    "width = int(input('Enter a width : '))\n",
    "\n",
    "\n",
    "if length == width :\n",
    "    print('its a sqaure')\n",
    "    square = length * width\n",
    "    print(f\"Area of square is {length} * {width} = {square}\")\n",
    "else:\n",
    "    print('its a rectangle')\n",
    "    rectangle = length * width\n",
    "    print(f\"Area of rectangle is {length}*{width} = {rectangle}\")"
   ]
  },
  {
   "cell_type": "code",
   "execution_count": 60,
   "id": "0e7a870b",
   "metadata": {},
   "outputs": [
    {
     "name": "stdout",
     "output_type": "stream",
     "text": [
      " Enter a Radius of a circle : 10\n",
      " Enter a Radius of a circle : 15\n",
      "radius 2 has higher area than radius 1 and area of circle is 1414.2857142857142\n"
     ]
    }
   ],
   "source": [
    "# que(9)\n",
    "\n",
    "radius_1 = int(input(' Enter a Radius of a circle : '))\n",
    "radius_2 = int(input(' Enter a Radius of a circle : '))\n",
    "\n",
    "a = 2*22/7*radius_1**2\n",
    "b = 2*22/7*radius_2**2\n",
    "\n",
    "if a > b:\n",
    "    print(f'radius 1 has higher area than radius 2 and area of circle is {a}')\n",
    "else:\n",
    "    print(f'radius 2 has higher area than radius 1 and area of circle is {b}')"
   ]
  },
  {
   "cell_type": "code",
   "execution_count": 61,
   "id": "902bf449",
   "metadata": {},
   "outputs": [
    {
     "data": {
      "text/plain": [
       "628.5714285714286"
      ]
     },
     "execution_count": 61,
     "metadata": {},
     "output_type": "execute_result"
    }
   ],
   "source": [
    "a"
   ]
  },
  {
   "cell_type": "code",
   "execution_count": 62,
   "id": "a7938b8c",
   "metadata": {},
   "outputs": [
    {
     "data": {
      "text/plain": [
       "1414.2857142857142"
      ]
     },
     "execution_count": 62,
     "metadata": {},
     "output_type": "execute_result"
    }
   ],
   "source": [
    "b"
   ]
  },
  {
   "cell_type": "code",
   "execution_count": null,
   "id": "ff49b661",
   "metadata": {},
   "outputs": [],
   "source": [
    "# que(10)\n",
    "# leap year quetion \n",
    "\n",
    "leap_year = 366\n",
    "\n",
    "if leap_year % 4\n"
   ]
  }
 ],
 "metadata": {
  "kernelspec": {
   "display_name": "Python 3 (ipykernel)",
   "language": "python",
   "name": "python3"
  },
  "language_info": {
   "codemirror_mode": {
    "name": "ipython",
    "version": 3
   },
   "file_extension": ".py",
   "mimetype": "text/x-python",
   "name": "python",
   "nbconvert_exporter": "python",
   "pygments_lexer": "ipython3",
   "version": "3.9.12"
  }
 },
 "nbformat": 4,
 "nbformat_minor": 5
}

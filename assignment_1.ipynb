{
 "cells": [
  {
   "cell_type": "code",
   "execution_count": null,
   "id": "ce16a7f7",
   "metadata": {},
   "outputs": [],
   "source": [
    "# ASSIGNMENT -\n",
    "# SEND IT TO \n",
    "TO :-QUERY@INEURON.AI,\n",
    "CC :- SUNNY@INEURON.AI , RIISHAV@INEURON.AI, BOKTIAR@INEURON.AI\n",
    "# SUBJECT [BOOTHCAMP 2.0] [ASSIGNMENT NO. 1]\n",
    "\n",
    "1 = FIND OUT ALL THE TYPES OF ERROR \n",
    "2. TAKE INPUT A AND B AND PRINT THEIR \n",
    "    > SUM,MULTI,DIV, SQUARE OF NOS\n",
    "    \n",
    "3. HOW MAN RESERVED KEYS ARE THEIR IN PYTHON AND WHY WE SHOULD NOT USE THEM AS A VAIABLE\n",
    "4. HOW MANY CREATE EMAIL IDS WITH THE USER INPUT IN THE FOLLOWING PART \n",
    "    > LASTNAME. FIRSTNAME @GMAIL.COM\n",
    "5. TRY TO PRINT THE FOLLOWING LINES AS INPUT\n",
    "    > hii i am dev\n",
    "    > my address is 123\n",
    "    > i earn 20$ daily.\n",
    "6. Take user input to fill a form for your college and create their email ids\n",
    "     name, address,date of bith\n",
    "    \n",
    "7. covert the following\n",
    "    > \"22.4\" into int\n",
    "    > \"22\" into complex no"
   ]
  },
  {
   "cell_type": "code",
   "execution_count": 2,
   "id": "83ba4e9e",
   "metadata": {},
   "outputs": [
    {
     "ename": "SyntaxError",
     "evalue": "invalid syntax (2877723126.py, line 1)",
     "output_type": "error",
     "traceback": [
      "\u001b[1;36m  Input \u001b[1;32mIn [2]\u001b[1;36m\u001b[0m\n\u001b[1;33m    a  \"india\"\u001b[0m\n\u001b[1;37m       ^\u001b[0m\n\u001b[1;31mSyntaxError\u001b[0m\u001b[1;31m:\u001b[0m invalid syntax\n"
     ]
    }
   ],
   "source": [
    "a  \"india\""
   ]
  },
  {
   "cell_type": "markdown",
   "id": "89a042f5",
   "metadata": {},
   "source": [
    "#### SyntaxError "
   ]
  },
  {
   "cell_type": "code",
   "execution_count": 1,
   "id": "b388cb55",
   "metadata": {},
   "outputs": [
    {
     "ename": "NameError",
     "evalue": "name 'india' is not defined",
     "output_type": "error",
     "traceback": [
      "\u001b[1;31m---------------------------------------------------------------------------\u001b[0m",
      "\u001b[1;31mNameError\u001b[0m                                 Traceback (most recent call last)",
      "Input \u001b[1;32mIn [1]\u001b[0m, in \u001b[0;36m<cell line: 1>\u001b[1;34m()\u001b[0m\n\u001b[1;32m----> 1\u001b[0m a \u001b[38;5;241m=\u001b[39m \u001b[43mindia\u001b[49m\n",
      "\u001b[1;31mNameError\u001b[0m: name 'india' is not defined"
     ]
    }
   ],
   "source": [
    "a = india "
   ]
  },
  {
   "cell_type": "code",
   "execution_count": 4,
   "id": "3358717a",
   "metadata": {},
   "outputs": [
    {
     "ename": "SyntaxError",
     "evalue": "invalid syntax (64398617.py, line 1)",
     "output_type": "error",
     "traceback": [
      "\u001b[1;36m  Input \u001b[1;32mIn [4]\u001b[1;36m\u001b[0m\n\u001b[1;33m    1a = 'india'\u001b[0m\n\u001b[1;37m     ^\u001b[0m\n\u001b[1;31mSyntaxError\u001b[0m\u001b[1;31m:\u001b[0m invalid syntax\n"
     ]
    }
   ],
   "source": [
    "1a = 'india'"
   ]
  },
  {
   "cell_type": "code",
   "execution_count": 5,
   "id": "05971736",
   "metadata": {},
   "outputs": [
    {
     "ename": "IndentationError",
     "evalue": "expected an indented block (1706363412.py, line 2)",
     "output_type": "error",
     "traceback": [
      "\u001b[1;36m  Input \u001b[1;32mIn [5]\u001b[1;36m\u001b[0m\n\u001b[1;33m    print('XYZ')\u001b[0m\n\u001b[1;37m    ^\u001b[0m\n\u001b[1;31mIndentationError\u001b[0m\u001b[1;31m:\u001b[0m expected an indented block\n"
     ]
    }
   ],
   "source": [
    "for i in range(0,10):\n",
    "print('XYZ')"
   ]
  },
  {
   "cell_type": "code",
   "execution_count": 6,
   "id": "c9b0413f",
   "metadata": {},
   "outputs": [
    {
     "ename": "SyntaxError",
     "evalue": "invalid syntax (844306668.py, line 1)",
     "output_type": "error",
     "traceback": [
      "\u001b[1;36m  Input \u001b[1;32mIn [6]\u001b[1;36m\u001b[0m\n\u001b[1;33m    for i in range(0,10)\u001b[0m\n\u001b[1;37m                        ^\u001b[0m\n\u001b[1;31mSyntaxError\u001b[0m\u001b[1;31m:\u001b[0m invalid syntax\n"
     ]
    }
   ],
   "source": [
    "for i in range(0,10)\n",
    "print('XYZ')"
   ]
  },
  {
   "cell_type": "code",
   "execution_count": 8,
   "id": "1fb583a0",
   "metadata": {},
   "outputs": [
    {
     "ename": "SyntaxError",
     "evalue": "invalid syntax (1187478276.py, line 1)",
     "output_type": "error",
     "traceback": [
      "\u001b[1;36m  Input \u001b[1;32mIn [8]\u001b[1;36m\u001b[0m\n\u001b[1;33m    A = 1223'4'\u001b[0m\n\u001b[1;37m            ^\u001b[0m\n\u001b[1;31mSyntaxError\u001b[0m\u001b[1;31m:\u001b[0m invalid syntax\n"
     ]
    }
   ],
   "source": [
    "A = 1223'4'"
   ]
  },
  {
   "cell_type": "code",
   "execution_count": 12,
   "id": "8b8d23e7",
   "metadata": {},
   "outputs": [
    {
     "ename": "SyntaxError",
     "evalue": "cannot assign to literal (1547975936.py, line 1)",
     "output_type": "error",
     "traceback": [
      "\u001b[1;36m  Input \u001b[1;32mIn [12]\u001b[1;36m\u001b[0m\n\u001b[1;33m    1233 = \"india\"\u001b[0m\n\u001b[1;37m    ^\u001b[0m\n\u001b[1;31mSyntaxError\u001b[0m\u001b[1;31m:\u001b[0m cannot assign to literal\n"
     ]
    }
   ],
   "source": [
    "1233 = \"india\""
   ]
  },
  {
   "cell_type": "code",
   "execution_count": 13,
   "id": "7bda9a03",
   "metadata": {},
   "outputs": [
    {
     "ename": "ValueError",
     "evalue": "not enough values to unpack (expected 3, got 2)",
     "output_type": "error",
     "traceback": [
      "\u001b[1;31m---------------------------------------------------------------------------\u001b[0m",
      "\u001b[1;31mValueError\u001b[0m                                Traceback (most recent call last)",
      "Input \u001b[1;32mIn [13]\u001b[0m, in \u001b[0;36m<cell line: 1>\u001b[1;34m()\u001b[0m\n\u001b[1;32m----> 1\u001b[0m a , b, c \u001b[38;5;241m=\u001b[39m \u001b[38;5;241m1\u001b[39m,\u001b[38;5;124m'\u001b[39m\u001b[38;5;124mindia\u001b[39m\u001b[38;5;124m'\u001b[39m\n",
      "\u001b[1;31mValueError\u001b[0m: not enough values to unpack (expected 3, got 2)"
     ]
    }
   ],
   "source": [
    "a , b, c = 1,'india'"
   ]
  },
  {
   "cell_type": "code",
   "execution_count": 14,
   "id": "9593b5bb",
   "metadata": {},
   "outputs": [
    {
     "ename": "TypeError",
     "evalue": "can only concatenate str (not \"int\") to str",
     "output_type": "error",
     "traceback": [
      "\u001b[1;31m---------------------------------------------------------------------------\u001b[0m",
      "\u001b[1;31mTypeError\u001b[0m                                 Traceback (most recent call last)",
      "Input \u001b[1;32mIn [14]\u001b[0m, in \u001b[0;36m<cell line: 1>\u001b[1;34m()\u001b[0m\n\u001b[1;32m----> 1\u001b[0m \u001b[43ma\u001b[49m\u001b[43m \u001b[49m\u001b[38;5;241;43m+\u001b[39;49m\u001b[43m \u001b[49m\u001b[38;5;241;43m2\u001b[39;49m\n",
      "\u001b[1;31mTypeError\u001b[0m: can only concatenate str (not \"int\") to str"
     ]
    }
   ],
   "source": [
    "a + 2"
   ]
  },
  {
   "cell_type": "code",
   "execution_count": 15,
   "id": "b99a400e",
   "metadata": {},
   "outputs": [
    {
     "ename": "NameError",
     "evalue": "name 'b' is not defined",
     "output_type": "error",
     "traceback": [
      "\u001b[1;31m---------------------------------------------------------------------------\u001b[0m",
      "\u001b[1;31mNameError\u001b[0m                                 Traceback (most recent call last)",
      "Input \u001b[1;32mIn [15]\u001b[0m, in \u001b[0;36m<cell line: 1>\u001b[1;34m()\u001b[0m\n\u001b[1;32m----> 1\u001b[0m a \u001b[38;5;241m+\u001b[39m \u001b[43mb\u001b[49m\n",
      "\u001b[1;31mNameError\u001b[0m: name 'b' is not defined"
     ]
    }
   ],
   "source": [
    "a + b"
   ]
  },
  {
   "cell_type": "code",
   "execution_count": 17,
   "id": "19977b68",
   "metadata": {},
   "outputs": [
    {
     "name": "stdout",
     "output_type": "stream",
     "text": [
      "here error will be : dev\n"
     ]
    },
    {
     "ename": "ValueError",
     "evalue": "invalid literal for int() with base 10: 'dev'",
     "output_type": "error",
     "traceback": [
      "\u001b[1;31m---------------------------------------------------------------------------\u001b[0m",
      "\u001b[1;31mValueError\u001b[0m                                Traceback (most recent call last)",
      "Input \u001b[1;32mIn [17]\u001b[0m, in \u001b[0;36m<cell line: 1>\u001b[1;34m()\u001b[0m\n\u001b[1;32m----> 1\u001b[0m a \u001b[38;5;241m=\u001b[39m \u001b[38;5;28;43mint\u001b[39;49m\u001b[43m(\u001b[49m\u001b[38;5;28;43minput\u001b[39;49m\u001b[43m(\u001b[49m\u001b[38;5;124;43m'\u001b[39;49m\u001b[38;5;124;43mhere error will be : \u001b[39;49m\u001b[38;5;124;43m'\u001b[39;49m\u001b[43m)\u001b[49m\u001b[43m)\u001b[49m\n",
      "\u001b[1;31mValueError\u001b[0m: invalid literal for int() with base 10: 'dev'"
     ]
    }
   ],
   "source": [
    "a = int(input('here error will be : '))"
   ]
  },
  {
   "cell_type": "code",
   "execution_count": 18,
   "id": "b3c42707",
   "metadata": {},
   "outputs": [
    {
     "data": {
      "text/plain": [
       "['a', 'b', 'c', 4, 6.7]"
      ]
     },
     "execution_count": 18,
     "metadata": {},
     "output_type": "execute_result"
    }
   ],
   "source": [
    "a "
   ]
  },
  {
   "cell_type": "code",
   "execution_count": 19,
   "id": "90642781",
   "metadata": {},
   "outputs": [
    {
     "ename": "SyntaxError",
     "evalue": "invalid syntax (2945270688.py, line 1)",
     "output_type": "error",
     "traceback": [
      "\u001b[1;36m  Input \u001b[1;32mIn [19]\u001b[1;36m\u001b[0m\n\u001b[1;33m    a[:::]\u001b[0m\n\u001b[1;37m        ^\u001b[0m\n\u001b[1;31mSyntaxError\u001b[0m\u001b[1;31m:\u001b[0m invalid syntax\n"
     ]
    }
   ],
   "source": [
    "a[:::]"
   ]
  },
  {
   "cell_type": "code",
   "execution_count": 20,
   "id": "b6bc634c",
   "metadata": {},
   "outputs": [
    {
     "ename": "TypeError",
     "evalue": "list indices must be integers or slices, not tuple",
     "output_type": "error",
     "traceback": [
      "\u001b[1;31m---------------------------------------------------------------------------\u001b[0m",
      "\u001b[1;31mTypeError\u001b[0m                                 Traceback (most recent call last)",
      "Input \u001b[1;32mIn [20]\u001b[0m, in \u001b[0;36m<cell line: 1>\u001b[1;34m()\u001b[0m\n\u001b[1;32m----> 1\u001b[0m \u001b[43ma\u001b[49m\u001b[43m[\u001b[49m\u001b[38;5;241;43m0\u001b[39;49m\u001b[43m,\u001b[49m\u001b[38;5;241;43m2\u001b[39;49m\u001b[43m]\u001b[49m\n",
      "\u001b[1;31mTypeError\u001b[0m: list indices must be integers or slices, not tuple"
     ]
    }
   ],
   "source": [
    "a[0,2]"
   ]
  },
  {
   "cell_type": "code",
   "execution_count": 21,
   "id": "c87a2d40",
   "metadata": {},
   "outputs": [
    {
     "ename": "NameError",
     "evalue": "name 'error' is not defined",
     "output_type": "error",
     "traceback": [
      "\u001b[1;31m---------------------------------------------------------------------------\u001b[0m",
      "\u001b[1;31mNameError\u001b[0m                                 Traceback (most recent call last)",
      "Input \u001b[1;32mIn [21]\u001b[0m, in \u001b[0;36m<cell line: 2>\u001b[1;34m()\u001b[0m\n\u001b[0;32m      1\u001b[0m ERROR \u001b[38;5;241m=\u001b[39m \u001b[38;5;124m'\u001b[39m\u001b[38;5;124mxyz\u001b[39m\u001b[38;5;124m'\u001b[39m\n\u001b[1;32m----> 2\u001b[0m \u001b[38;5;28mprint\u001b[39m(\u001b[43merror\u001b[49m)\n",
      "\u001b[1;31mNameError\u001b[0m: name 'error' is not defined"
     ]
    }
   ],
   "source": [
    "ERROR = 'xyz'\n",
    "print(error)"
   ]
  },
  {
   "cell_type": "code",
   "execution_count": 22,
   "id": "2be4f7c3",
   "metadata": {},
   "outputs": [
    {
     "ename": "SyntaxError",
     "evalue": "invalid syntax (366141870.py, line 1)",
     "output_type": "error",
     "traceback": [
      "\u001b[1;36m  Input \u001b[1;32mIn [22]\u001b[1;36m\u001b[0m\n\u001b[1;33m    @error = 'india'\u001b[0m\n\u001b[1;37m           ^\u001b[0m\n\u001b[1;31mSyntaxError\u001b[0m\u001b[1;31m:\u001b[0m invalid syntax\n"
     ]
    }
   ],
   "source": [
    "@error = 'india'"
   ]
  },
  {
   "cell_type": "code",
   "execution_count": 23,
   "id": "f5897d0f",
   "metadata": {},
   "outputs": [
    {
     "data": {
      "text/plain": [
       "['a', 'b', 'c', 4, 6.7]"
      ]
     },
     "execution_count": 23,
     "metadata": {},
     "output_type": "execute_result"
    }
   ],
   "source": [
    "a "
   ]
  },
  {
   "cell_type": "code",
   "execution_count": 26,
   "id": "bedb193f",
   "metadata": {},
   "outputs": [
    {
     "ename": "SyntaxError",
     "evalue": "EOL while scanning string literal (3464359891.py, line 1)",
     "output_type": "error",
     "traceback": [
      "\u001b[1;36m  Input \u001b[1;32mIn [26]\u001b[1;36m\u001b[0m\n\u001b[1;33m    a.insert(2,'dev)\u001b[0m\n\u001b[1;37m                    ^\u001b[0m\n\u001b[1;31mSyntaxError\u001b[0m\u001b[1;31m:\u001b[0m EOL while scanning string literal\n"
     ]
    }
   ],
   "source": [
    "a.insert(2,'dev)"
   ]
  },
  {
   "cell_type": "code",
   "execution_count": 27,
   "id": "c62ddd15",
   "metadata": {},
   "outputs": [
    {
     "ename": "TypeError",
     "evalue": "can only concatenate list (not \"str\") to list",
     "output_type": "error",
     "traceback": [
      "\u001b[1;31m---------------------------------------------------------------------------\u001b[0m",
      "\u001b[1;31mTypeError\u001b[0m                                 Traceback (most recent call last)",
      "Input \u001b[1;32mIn [27]\u001b[0m, in \u001b[0;36m<cell line: 1>\u001b[1;34m()\u001b[0m\n\u001b[1;32m----> 1\u001b[0m \u001b[43ma\u001b[49m\u001b[43m \u001b[49m\u001b[38;5;241;43m+\u001b[39;49m\u001b[43m \u001b[49m\u001b[38;5;124;43m'\u001b[39;49m\u001b[38;5;124;43mindia\u001b[39;49m\u001b[38;5;124;43m'\u001b[39;49m\n",
      "\u001b[1;31mTypeError\u001b[0m: can only concatenate list (not \"str\") to list"
     ]
    }
   ],
   "source": [
    "a + 'india'"
   ]
  },
  {
   "cell_type": "markdown",
   "id": "c881ea7a",
   "metadata": {},
   "source": [
    "following types of error are\n",
    "1) SyntaxError\n",
    "2) TypeError\n",
    "3) NameError\n",
    "4) ValueError\n",
    "5) IndentationError\n",
    "6) NameError"
   ]
  },
  {
   "cell_type": "code",
   "execution_count": 32,
   "id": "e221255a",
   "metadata": {},
   "outputs": [
    {
     "name": "stdout",
     "output_type": "stream",
     "text": [
      "Enter here value of a :10\n",
      "Enter here value of b :20\n",
      "sum of 10 and 20 is : 30\n",
      "substraction of 10 and 20 is : -10\n",
      "multiplicaion of 10 and 20 is : 200\n",
      "division of 10 and 20 is : 0.5\n",
      "square of 10 and 20 is : 100000000000000000000\n",
      "muldo of 10 and 20 is : 10\n"
     ]
    }
   ],
   "source": [
    "# 2. TAKE INPUT A AND B AND PRINT THEIR \n",
    "#   > SUM,MULTI,DIV, SQUARE OF NOS \n",
    "\n",
    "\n",
    "a = int(input(\"Enter here value of a :\"))\n",
    "b = int(input(\"Enter here value of b :\"))\n",
    "\n",
    "Addition = a + b\n",
    "substraction = a - b\n",
    "multiplication = a*b\n",
    "division = a/b\n",
    "square = a**b\n",
    "muldo = a%b\n",
    "\n",
    "print(f\"sum of {a} and {b} is : {Addition}\")\n",
    "print(f\"substraction of {a} and {b} is : {substraction}\")\n",
    "print(f\"multiplicaion of {a} and {b} is : {multiplication}\")\n",
    "print(f\"division of {a} and {b} is : {division}\")\n",
    "print(f\"square of {a} and {b} is : {square}\")\n",
    "print(f\"muldo of {a} and {b} is : {muldo}\")"
   ]
  },
  {
   "cell_type": "code",
   "execution_count": 36,
   "id": "3d81d3c2",
   "metadata": {},
   "outputs": [
    {
     "data": {
      "text/plain": [
       "'\\ntype()\\nlen()\\ndel()\\nprint()\\nif\\nelse\\nelif\\nnext\\ninput\\nint\\nstr\\nfloat\\nbool\\ndef \\nfor\\nin \\nrange\\ntry\\nTrue\\nFalse\\nclass\\nfinally\\nreturn\\nNone\\nas\\nlambda\\ncontinue\\nbreak\\npass\\n\\n\\n'"
      ]
     },
     "execution_count": 36,
     "metadata": {},
     "output_type": "execute_result"
    }
   ],
   "source": [
    "# 3. HOW MANY RESERVED KEYS ARE THEIR IN PYTHON AND WHY WE SHOULD NOT USE THEM AS A VAIABLE\n",
    "\n",
    "\n",
    "\"\"\"\n",
    "type()\n",
    "len()\n",
    "del()\n",
    "print()\n",
    "if\n",
    "else\n",
    "elif\n",
    "next\n",
    "input\n",
    "int\n",
    "str\n",
    "float\n",
    "bool\n",
    "def \n",
    "for\n",
    "in \n",
    "range\n",
    "try\n",
    "True\n",
    "False\n",
    "class\n",
    "finally\n",
    "return\n",
    "None\n",
    "as\n",
    "lambda\n",
    "continue\n",
    "break\n",
    "pass\n",
    "\n",
    "\n",
    "\"\"\"\n",
    "\n"
   ]
  },
  {
   "cell_type": "code",
   "execution_count": 45,
   "id": "bc2f305d",
   "metadata": {},
   "outputs": [
    {
     "name": "stdout",
     "output_type": "stream",
     "text": [
      "Enter the name of candidate : dev\n",
      "Enter last name : mandloi\n",
      "Enter age : 25\n",
      "mandldev25@gmail.com\n"
     ]
    }
   ],
   "source": [
    "# 4. HOW MANY CREATE EMAIL IDS WITH THE USER INPUT IN THE FOLLOWING PART \n",
    "#> LASTNAME. FIRSTNAME @GMAIL.COM\n",
    "\n",
    "name = input('Enter the name of candidate : ')\n",
    "lastname = input('Enter last name : ')\n",
    "age = int(input('Enter age : '))\n",
    "\n",
    "\n",
    "print(f\"{lastname[0:5]}{name[0:5]}{age}@gmail.com\")\n",
    "\n",
    "\n"
   ]
  },
  {
   "cell_type": "code",
   "execution_count": 48,
   "id": "7fdfadd4",
   "metadata": {},
   "outputs": [
    {
     "name": "stdout",
     "output_type": "stream",
     "text": [
      "Enter name : dev mandloi\n",
      "Enter address : indore mp\n",
      "Enter earning : 500\n",
      "hii i am dev mandloi\n",
      "my address is indore mp\n",
      "i earn 500 daily\n"
     ]
    }
   ],
   "source": [
    "# TRY TO PRINT THE FOLLOWING LINES AS INPUT\n",
    "#    > hii i am dev\n",
    "#    > my address is 123\n",
    "#    > i earn 20$ daily.\n",
    "\n",
    "a = input('Enter name : ')\n",
    "b = input('Enter address : ')\n",
    "c = input('Enter earning : ')\n",
    "\n",
    "print(f\"hii i am {a}\")\n",
    "print(f\"my address is {b}\")\n",
    "print(f\"i earn {c} daily\")"
   ]
  },
  {
   "cell_type": "code",
   "execution_count": 59,
   "id": "abb0e29e",
   "metadata": {},
   "outputs": [
    {
     "name": "stdout",
     "output_type": "stream",
     "text": [
      "Enter the name of candidate : dev\n",
      "Enter the age of candidate : 25\n",
      "Enter your address : indore\n",
      "Enter your date of birth : 14/03/1998\n",
      "Enter your phone details : 8435343811\n",
      "\n",
      "Thanks for your time here is your details :\n",
      "name : dev\n",
      "age : 25\n",
      "address : indore\n",
      "dob : 14/03/1998\n",
      "contact : 8435343811\n",
      "your college id is :- dev25ind@gmail.com\n",
      "\n"
     ]
    }
   ],
   "source": [
    "# Take user input to fill a form for your college and create their email ids\n",
    "# name, address,date of birth\n",
    "\n",
    "\n",
    "name = input('Enter the name of candidate : ')\n",
    "age = int(input('Enter the age of candidate : '))\n",
    "address = input('Enter your address : ')\n",
    "dob = input('Enter your date of birth : ')\n",
    "contact = int(input('Enter your phone details : '))\n",
    "\n",
    "print(f\"\"\"\n",
    "Thanks for your time here is your details :\n",
    "name : {name}\n",
    "age : {age}\n",
    "address : {address}\n",
    "dob : {dob}\n",
    "contact : {contact}\n",
    "your college id is :- {name}{age}{address[0:3]}@gmail.com\n",
    "\"\"\")\n"
   ]
  },
  {
   "cell_type": "code",
   "execution_count": 62,
   "id": "62ab2554",
   "metadata": {},
   "outputs": [
    {
     "name": "stdout",
     "output_type": "stream",
     "text": [
      "22\n",
      "(22+0j)\n"
     ]
    }
   ],
   "source": [
    "#7. covert the following\n",
    "#    > \"22.4\" into int\n",
    "#    > \"22\" into complex no\n",
    "\n",
    "a = 22.4\n",
    "b = 22\n",
    "\n",
    "\n",
    "print(int(a))\n",
    "print(complex(b))"
   ]
  },
  {
   "cell_type": "code",
   "execution_count": null,
   "id": "61f1e112",
   "metadata": {},
   "outputs": [],
   "source": []
  }
 ],
 "metadata": {
  "kernelspec": {
   "display_name": "Python 3 (ipykernel)",
   "language": "python",
   "name": "python3"
  },
  "language_info": {
   "codemirror_mode": {
    "name": "ipython",
    "version": 3
   },
   "file_extension": ".py",
   "mimetype": "text/x-python",
   "name": "python",
   "nbconvert_exporter": "python",
   "pygments_lexer": "ipython3",
   "version": "3.9.12"
  }
 },
 "nbformat": 4,
 "nbformat_minor": 5
}
